{
  "nbformat": 4,
  "nbformat_minor": 0,
  "metadata": {
    "colab": {
      "name": "Day4_DL_LogisticRegression",
      "provenance": [],
      "collapsed_sections": [],
      "toc_visible": true
    },
    "kernelspec": {
      "name": "python3",
      "display_name": "Python 3"
    },
    "accelerator": "GPU",
    "gpuClass": "standard"
  },
  "cells": [
    {
      "cell_type": "markdown",
      "metadata": {
        "id": "xMXa4U6c1x0x"
      },
      "source": [
        "## Logistic Regression with TF/Keras Library\n",
        "\n",
        "In this section, we will implement logistic regression and apply on Fashion MNIST database. The database contains images of articles of clothing and the task is to classify these images as one of a select number of labels. Training set contains $60000$ images and Test set contains $10000$ images. There are a total of $10$ class labels. Each image is a $28 \\times 28$ matrix of pixel values."
      ]
    },
    {
      "cell_type": "code",
      "metadata": {
        "id": "MK5vxrwqWuN3"
      },
      "source": [
        "import numpy as np\n",
        "import tensorflow as tf\n",
        "import matplotlib.pyplot as plt"
      ],
      "execution_count": 1,
      "outputs": []
    },
    {
      "cell_type": "code",
      "metadata": {
        "id": "TeoZXFyY2EdY",
        "outputId": "121227a5-d90d-4b88-f7a6-d6f73692803f",
        "colab": {
          "base_uri": "https://localhost:8080/"
        }
      },
      "source": [
        "# Download Fashion MNIST data\n",
        "from tensorflow import keras\n",
        "fashion_mnist = keras.datasets.fashion_mnist\n",
        "(trImages, trLabels), (tImages, tLabels) = fashion_mnist.load_data()"
      ],
      "execution_count": 2,
      "outputs": [
        {
          "output_type": "stream",
          "name": "stdout",
          "text": [
            "Downloading data from https://storage.googleapis.com/tensorflow/tf-keras-datasets/train-labels-idx1-ubyte.gz\n",
            "32768/29515 [=================================] - 0s 0us/step\n",
            "40960/29515 [=========================================] - 0s 0us/step\n",
            "Downloading data from https://storage.googleapis.com/tensorflow/tf-keras-datasets/train-images-idx3-ubyte.gz\n",
            "26427392/26421880 [==============================] - 0s 0us/step\n",
            "26435584/26421880 [==============================] - 0s 0us/step\n",
            "Downloading data from https://storage.googleapis.com/tensorflow/tf-keras-datasets/t10k-labels-idx1-ubyte.gz\n",
            "16384/5148 [===============================================================================================] - 0s 0us/step\n",
            "Downloading data from https://storage.googleapis.com/tensorflow/tf-keras-datasets/t10k-images-idx3-ubyte.gz\n",
            "4423680/4422102 [==============================] - 0s 0us/step\n",
            "4431872/4422102 [==============================] - 0s 0us/step\n"
          ]
        }
      ]
    },
    {
      "cell_type": "code",
      "metadata": {
        "id": "rBPqXMelSxU7",
        "colab": {
          "base_uri": "https://localhost:8080/"
        },
        "outputId": "33479f6c-f114-43f6-94d6-193dbc20ed59"
      },
      "source": [
        "print(np.shape(trImages))\n",
        "print(np.shape(tImages))\n",
        "print(np.max(trImages[0]))\n",
        "print(np.min(trImages[0]))"
      ],
      "execution_count": 3,
      "outputs": [
        {
          "output_type": "stream",
          "name": "stdout",
          "text": [
            "(60000, 28, 28)\n",
            "(10000, 28, 28)\n",
            "255\n",
            "0\n"
          ]
        }
      ]
    },
    {
      "cell_type": "markdown",
      "metadata": {
        "id": "jzcv_wRzT-Ap"
      },
      "source": [
        "### Single-Layer Implementation\n",
        "\n",
        "In the single-layer implementation of logistic regression, there is an input layer where each image is flattened into a vector of 28 x 28 = 784 elements and fed into a **Softmax** layer. Output of softmax layer are probabilities of the image belonging to one of the possible $10$ class labels. \n"
      ]
    },
    {
      "cell_type": "code",
      "metadata": {
        "id": "NyioMvtnBNY7"
      },
      "source": [
        "# Training Parameters\n",
        "batchSize = 128\n",
        "nEpochs = 50"
      ],
      "execution_count": 4,
      "outputs": []
    },
    {
      "cell_type": "markdown",
      "metadata": {
        "id": "luWf-06-9tFC"
      },
      "source": [
        "In the code snippet below, we do the following:\n",
        "\n",
        "\n",
        "1.   Defining a Sequential network model using Keras library\n",
        "2.   Input images are flattened in the input layer and fed to subsequent layer\n",
        "3.   Layer1 has 10 units whose activation function is **Softmax**\n",
        "4.   Loss function is Sparse_Categorical_CrossEntropy\n",
        "5.   Adam optimizer is used to minimize the above loss function during the training phase\n",
        "\n",
        "A block diagram of the network shows dimensions of the various layers."
      ]
    },
    {
      "cell_type": "code",
      "metadata": {
        "id": "jKkG_yPG2eWV",
        "outputId": "138f0c94-cfd7-4f91-d91c-c4313d8bbb56",
        "colab": {
          "base_uri": "https://localhost:8080/",
          "height": 312
        }
      },
      "source": [
        "# Building a feed-forward network\n",
        "\n",
        "model = tf.keras.Sequential() # empty model\n",
        "\n",
        "# Layer0 simply flattens image input\n",
        "layer0 = tf.keras.layers.Flatten(input_shape=np.shape(trImages[0]),name='Images')\n",
        "model.add(layer0)\n",
        "\n",
        "# Layer1 is the output layer\n",
        "numUnits_L1 = 10\n",
        "layer1 = tf.keras.layers.Dense(units=numUnits_L1, activation=tf.nn.softmax, use_bias=True, name='Logistic')\n",
        "model.add(layer1)\n",
        "\n",
        "# Compile model\n",
        "model.compile(optimizer='adam',loss='sparse_categorical_crossentropy', metrics=['accuracy']) #'sparse_categorical_crossentropy'\n",
        "\n",
        "# Plot Logistic Regression Network\n",
        "tf.keras.utils.plot_model(model,show_shapes=True,show_layer_names=True)\n"
      ],
      "execution_count": 5,
      "outputs": [
        {
          "output_type": "execute_result",
          "data": {
            "text/plain": [
              "<IPython.core.display.Image object>"
            ],
            "image/png": "[encoded data removed]"
          },
          "metadata": {},
          "execution_count": 5
        }
      ]
    },
    {
      "cell_type": "code",
      "metadata": {
        "id": "XMOrroKU72oU",
        "colab": {
          "base_uri": "https://localhost:8080/"
        },
        "outputId": "a8902fc6-7eb5-4e9e-fde7-6c79cc413d06"
      },
      "source": [
        "# Normalizing input\n",
        "trImages = trImages/255.0\n",
        "tImages = tImages/255.0\n",
        "\n",
        "# Train the model\n",
        "trHistory = model.fit(x=trImages, y=trLabels, batch_size=batchSize, epochs=nEpochs,shuffle=False, validation_split=0.0)"
      ],
      "execution_count": 6,
      "outputs": [
        {
          "output_type": "stream",
          "name": "stdout",
          "text": [
            "Epoch 1/50\n",
            "469/469 [==============================] - 4s 2ms/step - loss: 0.7265 - accuracy: 0.7631\n",
            "Epoch 2/50\n",
            "469/469 [==============================] - 1s 2ms/step - loss: 0.5126 - accuracy: 0.8284\n",
            "Epoch 3/50\n",
            "469/469 [==============================] - 1s 2ms/step - loss: 0.4719 - accuracy: 0.8418\n",
            "Epoch 4/50\n",
            "469/469 [==============================] - 1s 2ms/step - loss: 0.4506 - accuracy: 0.8483\n",
            "Epoch 5/50\n",
            "469/469 [==============================] - 1s 2ms/step - loss: 0.4369 - accuracy: 0.8515\n",
            "Epoch 6/50\n",
            "469/469 [==============================] - 1s 2ms/step - loss: 0.4271 - accuracy: 0.8542\n",
            "Epoch 7/50\n",
            "469/469 [==============================] - 1s 2ms/step - loss: 0.4196 - accuracy: 0.8564\n",
            "Epoch 8/50\n",
            "469/469 [==============================] - 1s 2ms/step - loss: 0.4137 - accuracy: 0.8581\n",
            "Epoch 9/50\n",
            "469/469 [==============================] - 1s 2ms/step - loss: 0.4089 - accuracy: 0.8599\n",
            "Epoch 10/50\n",
            "469/469 [==============================] - 1s 2ms/step - loss: 0.4048 - accuracy: 0.8611\n",
            "Epoch 11/50\n",
            "469/469 [==============================] - 1s 2ms/step - loss: 0.4013 - accuracy: 0.8621\n",
            "Epoch 12/50\n",
            "469/469 [==============================] - 1s 2ms/step - loss: 0.3982 - accuracy: 0.8630\n",
            "Epoch 13/50\n",
            "469/469 [==============================] - 1s 2ms/step - loss: 0.3955 - accuracy: 0.8641\n",
            "Epoch 14/50\n",
            "469/469 [==============================] - 1s 2ms/step - loss: 0.3931 - accuracy: 0.8651\n",
            "Epoch 15/50\n",
            "469/469 [==============================] - 1s 2ms/step - loss: 0.3910 - accuracy: 0.8660\n",
            "Epoch 16/50\n",
            "469/469 [==============================] - 1s 2ms/step - loss: 0.3890 - accuracy: 0.8663\n",
            "Epoch 17/50\n",
            "469/469 [==============================] - 1s 3ms/step - loss: 0.3873 - accuracy: 0.8669\n",
            "Epoch 18/50\n",
            "469/469 [==============================] - 1s 2ms/step - loss: 0.3856 - accuracy: 0.8673\n",
            "Epoch 19/50\n",
            "469/469 [==============================] - 1s 2ms/step - loss: 0.3841 - accuracy: 0.8679\n",
            "Epoch 20/50\n",
            "469/469 [==============================] - 1s 2ms/step - loss: 0.3827 - accuracy: 0.8682\n",
            "Epoch 21/50\n",
            "469/469 [==============================] - 1s 2ms/step - loss: 0.3814 - accuracy: 0.8683\n",
            "Epoch 22/50\n",
            "469/469 [==============================] - 1s 2ms/step - loss: 0.3802 - accuracy: 0.8684\n",
            "Epoch 23/50\n",
            "469/469 [==============================] - 1s 2ms/step - loss: 0.3791 - accuracy: 0.8689\n",
            "Epoch 24/50\n",
            "469/469 [==============================] - 1s 2ms/step - loss: 0.3780 - accuracy: 0.8691\n",
            "Epoch 25/50\n",
            "469/469 [==============================] - 1s 2ms/step - loss: 0.3770 - accuracy: 0.8691\n",
            "Epoch 26/50\n",
            "469/469 [==============================] - 1s 2ms/step - loss: 0.3761 - accuracy: 0.8692\n",
            "Epoch 27/50\n",
            "469/469 [==============================] - 1s 2ms/step - loss: 0.3752 - accuracy: 0.8694\n",
            "Epoch 28/50\n",
            "469/469 [==============================] - 1s 2ms/step - loss: 0.3743 - accuracy: 0.8696\n",
            "Epoch 29/50\n",
            "469/469 [==============================] - 1s 2ms/step - loss: 0.3735 - accuracy: 0.8698\n",
            "Epoch 30/50\n",
            "469/469 [==============================] - 1s 2ms/step - loss: 0.3728 - accuracy: 0.8701\n",
            "Epoch 31/50\n",
            "469/469 [==============================] - 1s 2ms/step - loss: 0.3720 - accuracy: 0.8703\n",
            "Epoch 32/50\n",
            "469/469 [==============================] - 1s 2ms/step - loss: 0.3713 - accuracy: 0.8705\n",
            "Epoch 33/50\n",
            "469/469 [==============================] - 1s 2ms/step - loss: 0.3706 - accuracy: 0.8707\n",
            "Epoch 34/50\n",
            "469/469 [==============================] - 1s 2ms/step - loss: 0.3700 - accuracy: 0.8708\n",
            "Epoch 35/50\n",
            "469/469 [==============================] - 1s 2ms/step - loss: 0.3694 - accuracy: 0.8709\n",
            "Epoch 36/50\n",
            "469/469 [==============================] - 1s 3ms/step - loss: 0.3688 - accuracy: 0.8708\n",
            "Epoch 37/50\n",
            "469/469 [==============================] - 1s 3ms/step - loss: 0.3682 - accuracy: 0.8708\n",
            "Epoch 38/50\n",
            "469/469 [==============================] - 1s 2ms/step - loss: 0.3676 - accuracy: 0.8710\n",
            "Epoch 39/50\n",
            "469/469 [==============================] - 1s 2ms/step - loss: 0.3671 - accuracy: 0.8711\n",
            "Epoch 40/50\n",
            "469/469 [==============================] - 1s 2ms/step - loss: 0.3666 - accuracy: 0.8711\n",
            "Epoch 41/50\n",
            "469/469 [==============================] - 1s 2ms/step - loss: 0.3661 - accuracy: 0.8713\n",
            "Epoch 42/50\n",
            "469/469 [==============================] - 1s 2ms/step - loss: 0.3656 - accuracy: 0.8715\n",
            "Epoch 43/50\n",
            "469/469 [==============================] - 1s 2ms/step - loss: 0.3651 - accuracy: 0.8717\n",
            "Epoch 44/50\n",
            "469/469 [==============================] - 1s 2ms/step - loss: 0.3646 - accuracy: 0.8719\n",
            "Epoch 45/50\n",
            "469/469 [==============================] - 1s 2ms/step - loss: 0.3642 - accuracy: 0.8722\n",
            "Epoch 46/50\n",
            "469/469 [==============================] - 1s 2ms/step - loss: 0.3638 - accuracy: 0.8722\n",
            "Epoch 47/50\n",
            "469/469 [==============================] - 1s 2ms/step - loss: 0.3633 - accuracy: 0.8723\n",
            "Epoch 48/50\n",
            "469/469 [==============================] - 1s 2ms/step - loss: 0.3629 - accuracy: 0.8724\n",
            "Epoch 49/50\n",
            "469/469 [==============================] - 1s 2ms/step - loss: 0.3625 - accuracy: 0.8726\n",
            "Epoch 50/50\n",
            "469/469 [==============================] - 1s 2ms/step - loss: 0.3621 - accuracy: 0.8727\n"
          ]
        }
      ]
    },
    {
      "cell_type": "code",
      "metadata": {
        "id": "aA4r8rHs4x3g",
        "outputId": "95595dde-3e21-4237-917b-6c58958bcedf",
        "colab": {
          "base_uri": "https://localhost:8080/"
        }
      },
      "source": [
        "tPrediction = model.predict(tImages) # output is a matrix of probabilities where each row corresponds to an image in the Test Set\n",
        "idCount = 0\n",
        "nErrs = 0\n",
        "for _ in tPrediction:\n",
        "  predictedLabel = np.argmax(_)\n",
        "  if predictedLabel != tLabels[idCount]:\n",
        "     nErrs += 1\n",
        "  idCount += 1\n",
        "\n",
        "errRate = nErrs / float(np.shape(tImages)[0])\n",
        "print(\"Prediction Error = %f\" %errRate)"
      ],
      "execution_count": 7,
      "outputs": [
        {
          "output_type": "stream",
          "name": "stdout",
          "text": [
            "Prediction Error = 0.156300\n"
          ]
        }
      ]
    },
    {
      "cell_type": "markdown",
      "metadata": {
        "id": "FRpyvddw5JM_"
      },
      "source": [
        "### Multi-Layer Implementation\n",
        "\n",
        "In a multi-layer implementation of logistic regression, we process the input layer through additional ReLu layers prior to feeding it to a Logistic layer. In this implementation, pixels of input images are preprocessed prior to generating probabilities. \n",
        "\n",
        "In this example, we add two additional layers: Layer-1 has 128 units with ReLu activation and Layer-2 has 32 units with ReLu activation as well. The Logistic layer (or Layer-3), as before, has 10 units with Softmax activation.\n",
        "\n",
        "Such an implementation shows better classification performance."
      ]
    },
    {
      "cell_type": "code",
      "metadata": {
        "id": "_yFe7DRr6ghw"
      },
      "source": [
        "# Training Parameters\n",
        "batchSize = 128\n",
        "nEpochs = 150"
      ],
      "execution_count": 8,
      "outputs": []
    },
    {
      "cell_type": "code",
      "metadata": {
        "id": "3mhEcWZR5R1A",
        "outputId": "304d772d-b329-40d6-a4dc-85ec388d4f8f",
        "colab": {
          "base_uri": "https://localhost:8080/",
          "height": 533
        }
      },
      "source": [
        "# Building a feed-forward network\n",
        "\n",
        "model = tf.keras.Sequential() # empty model\n",
        "\n",
        "# Layer0 simply flattens image input\n",
        "layer0 = tf.keras.layers.Flatten(input_shape=np.shape(trImages[0]),name='Images')\n",
        "model.add(layer0)\n",
        "\n",
        "# Layer1 is a dense layer\n",
        "numUnits_L1 =128\n",
        "layer1 = tf.keras.layers.Dense(units=numUnits_L1, activation=tf.nn.relu, use_bias=True,name='Dense-Relu1')\n",
        "model.add(layer1)\n",
        "\n",
        "# Layer2 is a dense layer\n",
        "numUnits_L2 =32\n",
        "layer2 = tf.keras.layers.Dense(units=numUnits_L2, activation=tf.nn.relu, use_bias=True,name='Dense-Relu2')\n",
        "model.add(layer2)\n",
        "\n",
        "# Layer3 is the output layer\n",
        "numUnits_L3 = 10\n",
        "layer3 = tf.keras.layers.Dense(units=numUnits_L3, activation=tf.nn.softmax, use_bias=True, name='Logistic')\n",
        "model.add(layer3)\n",
        "\n",
        "# Compile model\n",
        "model.compile(optimizer='adam',loss='sparse_categorical_crossentropy', metrics=['accuracy']) #'sparse_categorical_crossentropy'\n",
        "\n",
        "# Plot Logistic Regression Network\n",
        "tf.keras.utils.plot_model(model,show_shapes=True,show_layer_names=True)\n"
      ],
      "execution_count": 9,
      "outputs": [
        {
          "output_type": "execute_result",
          "data": {
            "text/plain": [
              "<IPython.core.display.Image object>"
            ],
            "image/png": "[encoded data removed]"
          },
          "metadata": {},
          "execution_count": 9
        }
      ]
    },
    {
      "cell_type": "code",
      "metadata": {
        "id": "Np53mQip_hHh",
        "colab": {
          "base_uri": "https://localhost:8080/"
        },
        "outputId": "647898cd-0408-4052-85a5-25832293bbaa"
      },
      "source": [
        "# Normalizing input \n",
        "trImages = trImages/255.0\n",
        "tImages = tImages/255.0\n",
        "\n",
        "# Train the model\n",
        "trHistory = model.fit(x=trImages, y=trLabels, batch_size=batchSize, epochs=nEpochs,shuffle=False, validation_split=0.0)"
      ],
      "execution_count": 10,
      "outputs": [
        {
          "output_type": "stream",
          "name": "stdout",
          "text": [
            "Epoch 1/150\n",
            "469/469 [==============================] - 2s 3ms/step - loss: 1.3059 - accuracy: 0.5755\n",
            "Epoch 2/150\n",
            "469/469 [==============================] - 1s 3ms/step - loss: 0.7164 - accuracy: 0.7412\n",
            "Epoch 3/150\n",
            "469/469 [==============================] - 1s 3ms/step - loss: 0.6193 - accuracy: 0.7722\n",
            "Epoch 4/150\n",
            "469/469 [==============================] - 1s 3ms/step - loss: 0.5751 - accuracy: 0.7904\n",
            "Epoch 5/150\n",
            "469/469 [==============================] - 1s 3ms/step - loss: 0.5456 - accuracy: 0.8033\n",
            "Epoch 6/150\n",
            "469/469 [==============================] - 1s 3ms/step - loss: 0.5228 - accuracy: 0.8120\n",
            "Epoch 7/150\n",
            "469/469 [==============================] - 1s 3ms/step - loss: 0.5038 - accuracy: 0.8194\n",
            "Epoch 8/150\n",
            "469/469 [==============================] - 1s 3ms/step - loss: 0.4874 - accuracy: 0.8259\n",
            "Epoch 9/150\n",
            "469/469 [==============================] - 1s 3ms/step - loss: 0.4730 - accuracy: 0.8313\n",
            "Epoch 10/150\n",
            "469/469 [==============================] - 1s 3ms/step - loss: 0.4604 - accuracy: 0.8359\n",
            "Epoch 11/150\n",
            "469/469 [==============================] - 1s 3ms/step - loss: 0.4496 - accuracy: 0.8401\n",
            "Epoch 12/150\n",
            "469/469 [==============================] - 1s 3ms/step - loss: 0.4401 - accuracy: 0.8437\n",
            "Epoch 13/150\n",
            "469/469 [==============================] - 1s 3ms/step - loss: 0.4319 - accuracy: 0.8465\n",
            "Epoch 14/150\n",
            "469/469 [==============================] - 1s 3ms/step - loss: 0.4247 - accuracy: 0.8490\n",
            "Epoch 15/150\n",
            "469/469 [==============================] - 1s 3ms/step - loss: 0.4182 - accuracy: 0.8512\n",
            "Epoch 16/150\n",
            "469/469 [==============================] - 1s 3ms/step - loss: 0.4125 - accuracy: 0.8537\n",
            "Epoch 17/150\n",
            "469/469 [==============================] - 1s 3ms/step - loss: 0.4070 - accuracy: 0.8554\n",
            "Epoch 18/150\n",
            "469/469 [==============================] - 1s 3ms/step - loss: 0.4018 - accuracy: 0.8573\n",
            "Epoch 19/150\n",
            "469/469 [==============================] - 1s 3ms/step - loss: 0.3971 - accuracy: 0.8592\n",
            "Epoch 20/150\n",
            "469/469 [==============================] - 1s 3ms/step - loss: 0.3925 - accuracy: 0.8608\n",
            "Epoch 21/150\n",
            "469/469 [==============================] - 1s 3ms/step - loss: 0.3882 - accuracy: 0.8622\n",
            "Epoch 22/150\n",
            "469/469 [==============================] - 1s 3ms/step - loss: 0.3841 - accuracy: 0.8636\n",
            "Epoch 23/150\n",
            "469/469 [==============================] - 1s 3ms/step - loss: 0.3800 - accuracy: 0.8651\n",
            "Epoch 24/150\n",
            "469/469 [==============================] - 1s 3ms/step - loss: 0.3760 - accuracy: 0.8669\n",
            "Epoch 25/150\n",
            "469/469 [==============================] - 1s 3ms/step - loss: 0.3723 - accuracy: 0.8683\n",
            "Epoch 26/150\n",
            "469/469 [==============================] - 1s 3ms/step - loss: 0.3687 - accuracy: 0.8692\n",
            "Epoch 27/150\n",
            "469/469 [==============================] - 1s 3ms/step - loss: 0.3654 - accuracy: 0.8705\n",
            "Epoch 28/150\n",
            "469/469 [==============================] - 1s 3ms/step - loss: 0.3621 - accuracy: 0.8718\n",
            "Epoch 29/150\n",
            "469/469 [==============================] - 1s 3ms/step - loss: 0.3589 - accuracy: 0.8732\n",
            "Epoch 30/150\n",
            "469/469 [==============================] - 1s 3ms/step - loss: 0.3559 - accuracy: 0.8741\n",
            "Epoch 31/150\n",
            "469/469 [==============================] - 1s 3ms/step - loss: 0.3529 - accuracy: 0.8750\n",
            "Epoch 32/150\n",
            "469/469 [==============================] - 1s 3ms/step - loss: 0.3500 - accuracy: 0.8759\n",
            "Epoch 33/150\n",
            "469/469 [==============================] - 1s 3ms/step - loss: 0.3472 - accuracy: 0.8770\n",
            "Epoch 34/150\n",
            "469/469 [==============================] - 1s 3ms/step - loss: 0.3446 - accuracy: 0.8775\n",
            "Epoch 35/150\n",
            "469/469 [==============================] - 1s 3ms/step - loss: 0.3420 - accuracy: 0.8783\n",
            "Epoch 36/150\n",
            "469/469 [==============================] - 1s 3ms/step - loss: 0.3395 - accuracy: 0.8794\n",
            "Epoch 37/150\n",
            "469/469 [==============================] - 1s 3ms/step - loss: 0.3369 - accuracy: 0.8801\n",
            "Epoch 38/150\n",
            "469/469 [==============================] - 1s 3ms/step - loss: 0.3345 - accuracy: 0.8808\n",
            "Epoch 39/150\n",
            "469/469 [==============================] - 1s 3ms/step - loss: 0.3321 - accuracy: 0.8818\n",
            "Epoch 40/150\n",
            "469/469 [==============================] - 1s 3ms/step - loss: 0.3298 - accuracy: 0.8826\n",
            "Epoch 41/150\n",
            "469/469 [==============================] - 1s 3ms/step - loss: 0.3275 - accuracy: 0.8831\n",
            "Epoch 42/150\n",
            "469/469 [==============================] - 1s 3ms/step - loss: 0.3252 - accuracy: 0.8844\n",
            "Epoch 43/150\n",
            "469/469 [==============================] - 1s 3ms/step - loss: 0.3230 - accuracy: 0.8851\n",
            "Epoch 44/150\n",
            "469/469 [==============================] - 1s 3ms/step - loss: 0.3209 - accuracy: 0.8859\n",
            "Epoch 45/150\n",
            "469/469 [==============================] - 1s 3ms/step - loss: 0.3188 - accuracy: 0.8868\n",
            "Epoch 46/150\n",
            "469/469 [==============================] - 1s 3ms/step - loss: 0.3168 - accuracy: 0.8874\n",
            "Epoch 47/150\n",
            "469/469 [==============================] - 1s 3ms/step - loss: 0.3147 - accuracy: 0.8880\n",
            "Epoch 48/150\n",
            "469/469 [==============================] - 1s 3ms/step - loss: 0.3128 - accuracy: 0.8885\n",
            "Epoch 49/150\n",
            "469/469 [==============================] - 1s 3ms/step - loss: 0.3108 - accuracy: 0.8891\n",
            "Epoch 50/150\n",
            "469/469 [==============================] - 1s 3ms/step - loss: 0.3089 - accuracy: 0.8896\n",
            "Epoch 51/150\n",
            "469/469 [==============================] - 1s 3ms/step - loss: 0.3070 - accuracy: 0.8902\n",
            "Epoch 52/150\n",
            "469/469 [==============================] - 1s 3ms/step - loss: 0.3053 - accuracy: 0.8906\n",
            "Epoch 53/150\n",
            "469/469 [==============================] - 1s 3ms/step - loss: 0.3034 - accuracy: 0.8912\n",
            "Epoch 54/150\n",
            "469/469 [==============================] - 1s 3ms/step - loss: 0.3017 - accuracy: 0.8917\n",
            "Epoch 55/150\n",
            "469/469 [==============================] - 1s 3ms/step - loss: 0.3000 - accuracy: 0.8921\n",
            "Epoch 56/150\n",
            "469/469 [==============================] - 1s 3ms/step - loss: 0.2983 - accuracy: 0.8924\n",
            "Epoch 57/150\n",
            "469/469 [==============================] - 1s 3ms/step - loss: 0.2967 - accuracy: 0.8928\n",
            "Epoch 58/150\n",
            "469/469 [==============================] - 1s 3ms/step - loss: 0.2950 - accuracy: 0.8933\n",
            "Epoch 59/150\n",
            "469/469 [==============================] - 1s 3ms/step - loss: 0.2934 - accuracy: 0.8938\n",
            "Epoch 60/150\n",
            "469/469 [==============================] - 1s 3ms/step - loss: 0.2918 - accuracy: 0.8943\n",
            "Epoch 61/150\n",
            "469/469 [==============================] - 1s 3ms/step - loss: 0.2902 - accuracy: 0.8946\n",
            "Epoch 62/150\n",
            "469/469 [==============================] - 1s 3ms/step - loss: 0.2886 - accuracy: 0.8951\n",
            "Epoch 63/150\n",
            "469/469 [==============================] - 1s 3ms/step - loss: 0.2870 - accuracy: 0.8959\n",
            "Epoch 64/150\n",
            "469/469 [==============================] - 1s 3ms/step - loss: 0.2855 - accuracy: 0.8965\n",
            "Epoch 65/150\n",
            "469/469 [==============================] - 1s 3ms/step - loss: 0.2840 - accuracy: 0.8971\n",
            "Epoch 66/150\n",
            "469/469 [==============================] - 1s 3ms/step - loss: 0.2825 - accuracy: 0.8974\n",
            "Epoch 67/150\n",
            "469/469 [==============================] - 1s 3ms/step - loss: 0.2810 - accuracy: 0.8978\n",
            "Epoch 68/150\n",
            "469/469 [==============================] - 1s 3ms/step - loss: 0.2796 - accuracy: 0.8983\n",
            "Epoch 69/150\n",
            "469/469 [==============================] - 1s 3ms/step - loss: 0.2781 - accuracy: 0.8988\n",
            "Epoch 70/150\n",
            "469/469 [==============================] - 1s 3ms/step - loss: 0.2766 - accuracy: 0.8994\n",
            "Epoch 71/150\n",
            "469/469 [==============================] - 1s 3ms/step - loss: 0.2753 - accuracy: 0.8999\n",
            "Epoch 72/150\n",
            "469/469 [==============================] - 1s 3ms/step - loss: 0.2739 - accuracy: 0.9004\n",
            "Epoch 73/150\n",
            "469/469 [==============================] - 1s 3ms/step - loss: 0.2725 - accuracy: 0.9006\n",
            "Epoch 74/150\n",
            "469/469 [==============================] - 1s 3ms/step - loss: 0.2712 - accuracy: 0.9010\n",
            "Epoch 75/150\n",
            "469/469 [==============================] - 1s 3ms/step - loss: 0.2698 - accuracy: 0.9018\n",
            "Epoch 76/150\n",
            "469/469 [==============================] - 1s 3ms/step - loss: 0.2685 - accuracy: 0.9018\n",
            "Epoch 77/150\n",
            "469/469 [==============================] - 1s 3ms/step - loss: 0.2672 - accuracy: 0.9022\n",
            "Epoch 78/150\n",
            "469/469 [==============================] - 1s 3ms/step - loss: 0.2659 - accuracy: 0.9027\n",
            "Epoch 79/150\n",
            "469/469 [==============================] - 1s 3ms/step - loss: 0.2647 - accuracy: 0.9032\n",
            "Epoch 80/150\n",
            "469/469 [==============================] - 1s 3ms/step - loss: 0.2633 - accuracy: 0.9036\n",
            "Epoch 81/150\n",
            "469/469 [==============================] - 1s 3ms/step - loss: 0.2621 - accuracy: 0.9041\n",
            "Epoch 82/150\n",
            "469/469 [==============================] - 1s 3ms/step - loss: 0.2608 - accuracy: 0.9046\n",
            "Epoch 83/150\n",
            "469/469 [==============================] - 1s 3ms/step - loss: 0.2596 - accuracy: 0.9050\n",
            "Epoch 84/150\n",
            "469/469 [==============================] - 1s 3ms/step - loss: 0.2583 - accuracy: 0.9053\n",
            "Epoch 85/150\n",
            "469/469 [==============================] - 1s 3ms/step - loss: 0.2571 - accuracy: 0.9056\n",
            "Epoch 86/150\n",
            "469/469 [==============================] - 1s 3ms/step - loss: 0.2560 - accuracy: 0.9061\n",
            "Epoch 87/150\n",
            "469/469 [==============================] - 1s 3ms/step - loss: 0.2548 - accuracy: 0.9067\n",
            "Epoch 88/150\n",
            "469/469 [==============================] - 1s 3ms/step - loss: 0.2536 - accuracy: 0.9071\n",
            "Epoch 89/150\n",
            "469/469 [==============================] - 1s 3ms/step - loss: 0.2525 - accuracy: 0.9076\n",
            "Epoch 90/150\n",
            "469/469 [==============================] - 1s 3ms/step - loss: 0.2513 - accuracy: 0.9080\n",
            "Epoch 91/150\n",
            "469/469 [==============================] - 1s 3ms/step - loss: 0.2501 - accuracy: 0.9085\n",
            "Epoch 92/150\n",
            "469/469 [==============================] - 1s 3ms/step - loss: 0.2490 - accuracy: 0.9088\n",
            "Epoch 93/150\n",
            "469/469 [==============================] - 1s 3ms/step - loss: 0.2478 - accuracy: 0.9092\n",
            "Epoch 94/150\n",
            "469/469 [==============================] - 2s 4ms/step - loss: 0.2467 - accuracy: 0.9098\n",
            "Epoch 95/150\n",
            "469/469 [==============================] - 2s 3ms/step - loss: 0.2456 - accuracy: 0.9104\n",
            "Epoch 96/150\n",
            "469/469 [==============================] - 1s 3ms/step - loss: 0.2445 - accuracy: 0.9110\n",
            "Epoch 97/150\n",
            "469/469 [==============================] - 1s 3ms/step - loss: 0.2434 - accuracy: 0.9112\n",
            "Epoch 98/150\n",
            "469/469 [==============================] - 1s 3ms/step - loss: 0.2424 - accuracy: 0.9115\n",
            "Epoch 99/150\n",
            "469/469 [==============================] - 1s 3ms/step - loss: 0.2414 - accuracy: 0.9118\n",
            "Epoch 100/150\n",
            "469/469 [==============================] - 1s 3ms/step - loss: 0.2402 - accuracy: 0.9123\n",
            "Epoch 101/150\n",
            "469/469 [==============================] - 1s 3ms/step - loss: 0.2392 - accuracy: 0.9130\n",
            "Epoch 102/150\n",
            "469/469 [==============================] - 1s 3ms/step - loss: 0.2381 - accuracy: 0.9132\n",
            "Epoch 103/150\n",
            "469/469 [==============================] - 1s 3ms/step - loss: 0.2371 - accuracy: 0.9136\n",
            "Epoch 104/150\n",
            "469/469 [==============================] - 1s 3ms/step - loss: 0.2361 - accuracy: 0.9142\n",
            "Epoch 105/150\n",
            "469/469 [==============================] - 1s 3ms/step - loss: 0.2351 - accuracy: 0.9145\n",
            "Epoch 106/150\n",
            "469/469 [==============================] - 1s 3ms/step - loss: 0.2340 - accuracy: 0.9151\n",
            "Epoch 107/150\n",
            "469/469 [==============================] - 1s 3ms/step - loss: 0.2329 - accuracy: 0.9151\n",
            "Epoch 108/150\n",
            "469/469 [==============================] - 1s 3ms/step - loss: 0.2319 - accuracy: 0.9154\n",
            "Epoch 109/150\n",
            "469/469 [==============================] - 2s 3ms/step - loss: 0.2309 - accuracy: 0.9159\n",
            "Epoch 110/150\n",
            "469/469 [==============================] - 1s 3ms/step - loss: 0.2298 - accuracy: 0.9163\n",
            "Epoch 111/150\n",
            "469/469 [==============================] - 1s 3ms/step - loss: 0.2288 - accuracy: 0.9165\n",
            "Epoch 112/150\n",
            "469/469 [==============================] - 1s 3ms/step - loss: 0.2278 - accuracy: 0.9171\n",
            "Epoch 113/150\n",
            "469/469 [==============================] - 1s 3ms/step - loss: 0.2269 - accuracy: 0.9175\n",
            "Epoch 114/150\n",
            "469/469 [==============================] - 1s 3ms/step - loss: 0.2258 - accuracy: 0.9178\n",
            "Epoch 115/150\n",
            "469/469 [==============================] - 1s 3ms/step - loss: 0.2249 - accuracy: 0.9183\n",
            "Epoch 116/150\n",
            "469/469 [==============================] - 1s 3ms/step - loss: 0.2239 - accuracy: 0.9186\n",
            "Epoch 117/150\n",
            "469/469 [==============================] - 1s 3ms/step - loss: 0.2229 - accuracy: 0.9191\n",
            "Epoch 118/150\n",
            "469/469 [==============================] - 1s 3ms/step - loss: 0.2220 - accuracy: 0.9192\n",
            "Epoch 119/150\n",
            "469/469 [==============================] - 1s 3ms/step - loss: 0.2210 - accuracy: 0.9197\n",
            "Epoch 120/150\n",
            "469/469 [==============================] - 1s 3ms/step - loss: 0.2200 - accuracy: 0.9200\n",
            "Epoch 121/150\n",
            "469/469 [==============================] - 1s 3ms/step - loss: 0.2191 - accuracy: 0.9205\n",
            "Epoch 122/150\n",
            "469/469 [==============================] - 1s 3ms/step - loss: 0.2181 - accuracy: 0.9207\n",
            "Epoch 123/150\n",
            "469/469 [==============================] - 1s 3ms/step - loss: 0.2172 - accuracy: 0.9212\n",
            "Epoch 124/150\n",
            "469/469 [==============================] - 1s 3ms/step - loss: 0.2162 - accuracy: 0.9215\n",
            "Epoch 125/150\n",
            "469/469 [==============================] - 1s 3ms/step - loss: 0.2153 - accuracy: 0.9217\n",
            "Epoch 126/150\n",
            "469/469 [==============================] - 1s 3ms/step - loss: 0.2144 - accuracy: 0.9221\n",
            "Epoch 127/150\n",
            "469/469 [==============================] - 1s 3ms/step - loss: 0.2135 - accuracy: 0.9228\n",
            "Epoch 128/150\n",
            "469/469 [==============================] - 1s 3ms/step - loss: 0.2126 - accuracy: 0.9230\n",
            "Epoch 129/150\n",
            "469/469 [==============================] - 1s 3ms/step - loss: 0.2116 - accuracy: 0.9233\n",
            "Epoch 130/150\n",
            "469/469 [==============================] - 1s 3ms/step - loss: 0.2107 - accuracy: 0.9239\n",
            "Epoch 131/150\n",
            "469/469 [==============================] - 1s 3ms/step - loss: 0.2098 - accuracy: 0.9239\n",
            "Epoch 132/150\n",
            "469/469 [==============================] - 1s 3ms/step - loss: 0.2089 - accuracy: 0.9245\n",
            "Epoch 133/150\n",
            "469/469 [==============================] - 1s 3ms/step - loss: 0.2080 - accuracy: 0.9248\n",
            "Epoch 134/150\n",
            "469/469 [==============================] - 1s 3ms/step - loss: 0.2071 - accuracy: 0.9253\n",
            "Epoch 135/150\n",
            "469/469 [==============================] - 1s 3ms/step - loss: 0.2063 - accuracy: 0.9255\n",
            "Epoch 136/150\n",
            "469/469 [==============================] - 1s 3ms/step - loss: 0.2053 - accuracy: 0.9261\n",
            "Epoch 137/150\n",
            "469/469 [==============================] - 1s 3ms/step - loss: 0.2044 - accuracy: 0.9265\n",
            "Epoch 138/150\n",
            "469/469 [==============================] - 1s 3ms/step - loss: 0.2036 - accuracy: 0.9267\n",
            "Epoch 139/150\n",
            "469/469 [==============================] - 1s 3ms/step - loss: 0.2027 - accuracy: 0.9270\n",
            "Epoch 140/150\n",
            "469/469 [==============================] - 1s 3ms/step - loss: 0.2018 - accuracy: 0.9274\n",
            "Epoch 141/150\n",
            "469/469 [==============================] - 1s 3ms/step - loss: 0.2009 - accuracy: 0.9277\n",
            "Epoch 142/150\n",
            "469/469 [==============================] - 1s 3ms/step - loss: 0.2001 - accuracy: 0.9280\n",
            "Epoch 143/150\n",
            "469/469 [==============================] - 1s 3ms/step - loss: 0.1992 - accuracy: 0.9283\n",
            "Epoch 144/150\n",
            "469/469 [==============================] - 1s 3ms/step - loss: 0.1983 - accuracy: 0.9286\n",
            "Epoch 145/150\n",
            "469/469 [==============================] - 1s 3ms/step - loss: 0.1975 - accuracy: 0.9289\n",
            "Epoch 146/150\n",
            "469/469 [==============================] - 1s 3ms/step - loss: 0.1966 - accuracy: 0.9292\n",
            "Epoch 147/150\n",
            "469/469 [==============================] - 1s 3ms/step - loss: 0.1959 - accuracy: 0.9299\n",
            "Epoch 148/150\n",
            "469/469 [==============================] - 1s 3ms/step - loss: 0.1950 - accuracy: 0.9299\n",
            "Epoch 149/150\n",
            "469/469 [==============================] - 1s 3ms/step - loss: 0.1942 - accuracy: 0.9301\n",
            "Epoch 150/150\n",
            "469/469 [==============================] - 1s 3ms/step - loss: 0.1934 - accuracy: 0.9310\n"
          ]
        }
      ]
    },
    {
      "cell_type": "code",
      "metadata": {
        "id": "biwE7uJ9Au-U",
        "outputId": "876fe2ec-2784-4f8f-f557-ff44925c4021",
        "colab": {
          "base_uri": "https://localhost:8080/"
        }
      },
      "source": [
        "tPrediction = model.predict(tImages) # output is a matrix of probabilities where each row corresponds to an image in the Test Set\n",
        "idCount = 0\n",
        "nErrs = 0\n",
        "for _ in tPrediction:\n",
        "  predictedLabel = np.argmax(_)\n",
        "  if predictedLabel != tLabels[idCount]:\n",
        "     nErrs += 1\n",
        "  idCount += 1\n",
        "\n",
        "errRate = nErrs / float(np.shape(tImages)[0])\n",
        "print(\"Prediction Error = %f\" %errRate)"
      ],
      "execution_count": 11,
      "outputs": [
        {
          "output_type": "stream",
          "name": "stdout",
          "text": [
            "Prediction Error = 0.119800\n"
          ]
        }
      ]
    },
    {
      "cell_type": "markdown",
      "metadata": {
        "id": "nX2cfDkfVtxK"
      },
      "source": [
        "##Summary\n",
        "\n",
        "In a Single-Layer implementation, we apply logistic regression directly on pixels of input images. With this network, we achieve classification error of ~$19\\%$. In a Multi-Layer implementation, we apply two ReLu layers on pixels of input images prior to applying logistic regression. With this network, we achieve classification error of ~$12\\%$.\n",
        "\n",
        "Single-layer implementation uses a $784$ weight-matrix while Multi-Layer implementation uses a $784 \\times 128 \\times 32 \\times 10 $ weight-matrix, i.e., a total of $> 32$ million weights. With a factor of $40000$ more weights, we achieve an improvement of $6%$ in classification error rate."
      ]
    }
  ]
}