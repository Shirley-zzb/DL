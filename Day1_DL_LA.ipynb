{
  "cells": [
    {
      "cell_type": "markdown",
      "metadata": {
        "id": "9Q0j91iFigXZ"
      },
      "source": [
        "# Linear algebra"
      ]
    },
    {
      "cell_type": "code",
      "execution_count": null,
      "metadata": {
        "ExecuteTime": {
          "end_time": "2019-01-22T06:59:37.697347Z",
          "start_time": "2019-01-22T06:59:36.344203Z"
        },
        "colab": {
          "base_uri": "https://localhost:8080/"
        },
        "id": "gyBcSlSTigXd",
        "outputId": "8861e160-d1a2-42bd-c989-b1693a618225"
      },
      "outputs": [
        {
          "output_type": "stream",
          "name": "stdout",
          "text": [
            "Looking in indexes: https://pypi.org/simple, https://us-python.pkg.dev/colab-wheels/public/simple/\n",
            "Collecting mxnet\n",
            "  Downloading mxnet-1.9.1-py3-none-manylinux2014_x86_64.whl (49.1 MB)\n",
            "\u001b[K     |████████████████████████████████| 49.1 MB 237 kB/s \n",
            "\u001b[?25hRequirement already satisfied: requests<3,>=2.20.0 in /usr/local/lib/python3.7/dist-packages (from mxnet) (2.23.0)\n",
            "Collecting graphviz<0.9.0,>=0.8.1\n",
            "  Downloading graphviz-0.8.4-py2.py3-none-any.whl (16 kB)\n",
            "Requirement already satisfied: numpy<2.0.0,>1.16.0 in /usr/local/lib/python3.7/dist-packages (from mxnet) (1.21.6)\n",
            "Requirement already satisfied: idna<3,>=2.5 in /usr/local/lib/python3.7/dist-packages (from requests<3,>=2.20.0->mxnet) (2.10)\n",
            "Requirement already satisfied: chardet<4,>=3.0.2 in /usr/local/lib/python3.7/dist-packages (from requests<3,>=2.20.0->mxnet) (3.0.4)\n",
            "Requirement already satisfied: certifi>=2017.4.17 in /usr/local/lib/python3.7/dist-packages (from requests<3,>=2.20.0->mxnet) (2022.6.15)\n",
            "Requirement already satisfied: urllib3!=1.25.0,!=1.25.1,<1.26,>=1.21.1 in /usr/local/lib/python3.7/dist-packages (from requests<3,>=2.20.0->mxnet) (1.24.3)\n",
            "Installing collected packages: graphviz, mxnet\n",
            "  Attempting uninstall: graphviz\n",
            "    Found existing installation: graphviz 0.10.1\n",
            "    Uninstalling graphviz-0.10.1:\n",
            "      Successfully uninstalled graphviz-0.10.1\n",
            "Successfully installed graphviz-0.8.4 mxnet-1.9.1\n"
          ]
        }
      ],
      "source": [
        "!pip install mxnet\n",
        "import mxnet\n",
        "from mxnet import nd"
      ]
    },
    {
      "cell_type": "markdown",
      "metadata": {
        "id": "ETHZzx6bigXf"
      },
      "source": [
        "In MXNet scalars are NDArrays with just one element. "
      ]
    },
    {
      "cell_type": "code",
      "execution_count": null,
      "metadata": {
        "ExecuteTime": {
          "end_time": "2019-01-22T06:59:37.723391Z",
          "start_time": "2019-01-22T06:59:37.701297Z"
        },
        "colab": {
          "base_uri": "https://localhost:8080/"
        },
        "id": "uBAfgr1wigXg",
        "outputId": "379996f9-8914-4190-e68c-aa1c6b56d46b"
      },
      "outputs": [
        {
          "output_type": "stream",
          "name": "stdout",
          "text": [
            "x + y =  \n",
            "[5. 5.]\n",
            "<NDArray 2 @cpu(0)>\n",
            "x * y =  \n",
            "[6. 4.]\n",
            "<NDArray 2 @cpu(0)>\n",
            "x / y =  \n",
            "[1.5 4. ]\n",
            "<NDArray 2 @cpu(0)>\n",
            "x ** y =  \n",
            "[9. 4.]\n",
            "<NDArray 2 @cpu(0)>\n"
          ]
        }
      ],
      "source": [
        "x = nd.array([3.0, 4.0])\n",
        "y = nd.array([2.0, 1.0])\n",
        "\n",
        "print('x + y = ', x + y)\n",
        "print('x * y = ', x * y)\n",
        "print('x / y = ', x / y)\n",
        "print('x ** y = ', nd.power(x,y))"
      ]
    },
    {
      "cell_type": "markdown",
      "metadata": {
        "id": "t1XCa7LMigXi"
      },
      "source": [
        "## Vectors\n",
        "\n",
        "Vectors are e.g. ``[1.0,3.0,4.0,2.0]``. We use 1D NDArrays."
      ]
    },
    {
      "cell_type": "code",
      "execution_count": null,
      "metadata": {
        "ExecuteTime": {
          "end_time": "2019-01-22T06:59:37.759425Z",
          "start_time": "2019-01-22T06:59:37.748844Z"
        },
        "colab": {
          "base_uri": "https://localhost:8080/"
        },
        "id": "-BSnrWpUigXj",
        "outputId": "a875d8c3-96a9-4e4a-fb46-0f1f495b7609"
      },
      "outputs": [
        {
          "output_type": "stream",
          "name": "stdout",
          "text": [
            "x =  \n",
            "[0. 1. 2. 3. 4.]\n",
            "<NDArray 5 @cpu(0)>\n"
          ]
        }
      ],
      "source": [
        "x = nd.arange(5)\n",
        "print('x = ', x) "
      ]
    },
    {
      "cell_type": "code",
      "execution_count": null,
      "metadata": {
        "ExecuteTime": {
          "end_time": "2019-01-22T06:59:37.790373Z",
          "start_time": "2019-01-22T06:59:37.765817Z"
        },
        "colab": {
          "base_uri": "https://localhost:8080/"
        },
        "id": "vr9kvCVdigXj",
        "outputId": "ec532870-f0a7-478c-e864-e04b3d1736b0"
      },
      "outputs": [
        {
          "output_type": "execute_result",
          "data": {
            "text/plain": [
              "\n",
              "[3.]\n",
              "<NDArray 1 @cpu(0)>"
            ]
          },
          "metadata": {},
          "execution_count": 8
        }
      ],
      "source": [
        "x[3]"
      ]
    },
    {
      "cell_type": "markdown",
      "metadata": {
        "id": "IDcUkwVbigXj"
      },
      "source": [
        "## Length, dimensionality and shape\n",
        "\n",
        "The length of a vector is commonly called its $dimension$. As with an ordinary Python array, we can access the length of an NDArray\n",
        "by calling Python's in-built ``len()`` function.\n",
        "\n",
        "We can also access a vector's length via its `.shape` attribute.\n",
        "The shape is a tuple that lists the dimensionality along each of its axes."
      ]
    },
    {
      "cell_type": "code",
      "execution_count": null,
      "metadata": {
        "ExecuteTime": {
          "end_time": "2019-01-22T06:59:37.799655Z",
          "start_time": "2019-01-22T06:59:37.792531Z"
        },
        "colab": {
          "base_uri": "https://localhost:8080/"
        },
        "id": "5S2iJMX5igXk",
        "outputId": "18abed39-2bbb-4c0b-94a2-eeb152b04d1d"
      },
      "outputs": [
        {
          "output_type": "execute_result",
          "data": {
            "text/plain": [
              "(5,)"
            ]
          },
          "metadata": {},
          "execution_count": 9
        }
      ],
      "source": [
        "x.shape"
      ]
    },
    {
      "cell_type": "markdown",
      "metadata": {
        "id": "2AHDZ-YIigXk"
      },
      "source": [
        "The word dimension is overloaded between number of axes and number of elements. **To avoid confusion, when we say *2D* array or *3D* array, we mean an array with 2 or 3 axes respectively. But if we say *$n$-dimensional* vector, we mean a vector of length $n$.**"
      ]
    },
    {
      "cell_type": "code",
      "execution_count": null,
      "metadata": {
        "ExecuteTime": {
          "end_time": "2019-01-22T06:59:37.819085Z",
          "start_time": "2019-01-22T06:59:37.806667Z"
        },
        "colab": {
          "base_uri": "https://localhost:8080/"
        },
        "id": "zUuWYsk2igXl",
        "outputId": "54c771a5-0c03-4ebe-f1bc-bfee72449871"
      },
      "outputs": [
        {
          "output_type": "stream",
          "name": "stdout",
          "text": [
            "\n",
            "[2. 4. 6.]\n",
            "<NDArray 3 @cpu(0)>\n",
            "\n",
            "[12. 24. 36.]\n",
            "<NDArray 3 @cpu(0)>\n"
          ]
        }
      ],
      "source": [
        "a = 2\n",
        "x = nd.array([1,2,3])\n",
        "y = nd.array([10,20,30])\n",
        "print(a * x)\n",
        "print(a * x + y)"
      ]
    },
    {
      "cell_type": "markdown",
      "metadata": {
        "id": "nqkR4M0eigXl"
      },
      "source": [
        "## Matrices\n",
        "\n",
        "Just as vectors generalize scalars from order $0$ to order $1$,\n",
        "matrices generalize vectors from $1D$ to $2D$.\n",
        "Matrices, which we'll typically denote with capital letters ($A$, $B$, $C$),\n",
        "are represented in code as arrays with 2 axes.\n",
        "Visually, we can draw a matrix as a table,\n",
        "where each entry $a_{ij}$ belongs to the $i$-th row and $j$-th column.\n",
        "\n",
        "\n",
        "$$A=\\begin{pmatrix}\n",
        " a_{11} & a_{12} & \\cdots & a_{1m} \\\\\n",
        " a_{21} & a_{22} & \\cdots & a_{2m} \\\\\n",
        "\\vdots & \\vdots & \\ddots & \\vdots \\\\\n",
        " a_{n1} & a_{n2} & \\cdots & a_{nm} \\\\\n",
        "\\end{pmatrix}$$"
      ]
    },
    {
      "cell_type": "code",
      "execution_count": null,
      "metadata": {
        "ExecuteTime": {
          "end_time": "2019-01-22T06:59:37.845855Z",
          "start_time": "2019-01-22T06:59:37.832911Z"
        },
        "colab": {
          "base_uri": "https://localhost:8080/"
        },
        "id": "gdbJ-bGtigXl",
        "outputId": "041ed6c6-be1d-477e-b161-f0872eb8db6d"
      },
      "outputs": [
        {
          "output_type": "stream",
          "name": "stdout",
          "text": [
            "\n",
            "[0. 1. 2. 3. 4. 5. 6. 7. 8. 9.]\n",
            "<NDArray 10 @cpu(0)>\n",
            "\n",
            "[[ 0.  1.  2.  3.  4.  5.  6.  7.  8.  9.]\n",
            " [10. 11. 12. 13. 14. 15. 16. 17. 18. 19.]]\n",
            "<NDArray 2x10 @cpu(0)>\n"
          ]
        }
      ],
      "source": [
        "print(nd.arange(10))\n",
        "A = nd.arange(20).reshape((2,10))\n",
        "print(A)"
      ]
    },
    {
      "cell_type": "markdown",
      "metadata": {
        "id": "Gqviu5wUigXm"
      },
      "source": [
        "We can access elements $a_{ij}$ by specifying row $i$ and column $j$. Leaving them blank selects via `:` takes all ements in the respective dimension. \n",
        "\n",
        "We can transpose the matrix through `T`. That is, if $B = A^T$, then $b_{ij} = a_{ji}$ for any $i$ and $j$."
      ]
    },
    {
      "cell_type": "code",
      "execution_count": null,
      "metadata": {
        "ExecuteTime": {
          "end_time": "2019-01-22T06:59:37.858642Z",
          "start_time": "2019-01-22T06:59:37.849556Z"
        },
        "colab": {
          "base_uri": "https://localhost:8080/"
        },
        "id": "_lmZtOC2igXm",
        "outputId": "07492955-5c4e-42c9-a215-cdc7e0de0f0e"
      },
      "outputs": [
        {
          "output_type": "stream",
          "name": "stdout",
          "text": [
            "\n",
            "[[ 0. 10.]\n",
            " [ 1. 11.]\n",
            " [ 2. 12.]\n",
            " [ 3. 13.]\n",
            " [ 4. 14.]\n",
            " [ 5. 15.]\n",
            " [ 6. 16.]\n",
            " [ 7. 17.]\n",
            " [ 8. 18.]\n",
            " [ 9. 19.]]\n",
            "<NDArray 10x2 @cpu(0)>\n"
          ]
        }
      ],
      "source": [
        "print(A.T)"
      ]
    },
    {
      "cell_type": "markdown",
      "metadata": {
        "id": "tzKBLmt6igXm"
      },
      "source": [
        "## Tensors\n",
        "\n",
        "Just as vectors generalize scalars, and matrices generalize vectors, we can increase the number of axes. When working with images the axes correspond to the height, width, and the three (RGB) color channels."
      ]
    },
    {
      "cell_type": "code",
      "execution_count": null,
      "metadata": {
        "ExecuteTime": {
          "end_time": "2019-01-22T06:59:37.880386Z",
          "start_time": "2019-01-22T06:59:37.869406Z"
        },
        "colab": {
          "base_uri": "https://localhost:8080/"
        },
        "id": "LhmirvsnigXm",
        "outputId": "cda66de8-8542-44b7-f77e-dc3b3e5112f6"
      },
      "outputs": [
        {
          "output_type": "stream",
          "name": "stdout",
          "text": [
            "X.shape = (2, 3, 4)\n",
            "X = \n",
            "[[[ 0.  1.  2.  3.]\n",
            "  [ 4.  5.  6.  7.]\n",
            "  [ 8.  9. 10. 11.]]\n",
            "\n",
            " [[12. 13. 14. 15.]\n",
            "  [16. 17. 18. 19.]\n",
            "  [20. 21. 22. 23.]]]\n",
            "<NDArray 2x3x4 @cpu(0)>\n"
          ]
        }
      ],
      "source": [
        "X = nd.arange(24).reshape((2, 3, 4))\n",
        "print('X.shape =', X.shape)\n",
        "print('X =', X)"
      ]
    },
    {
      "cell_type": "markdown",
      "metadata": {
        "id": "EDgIg2DhigXn"
      },
      "source": [
        "## Basic properties of tensor arithmetic\n",
        "\n",
        "Given two tensors $X$ and $Y$ with the same shape,\n",
        "$\\alpha X + Y$ has the same shape\n",
        "(numerical mathematicians call this the AXPY operation)."
      ]
    },
    {
      "cell_type": "code",
      "execution_count": null,
      "metadata": {
        "ExecuteTime": {
          "end_time": "2019-01-22T06:59:37.896390Z",
          "start_time": "2019-01-22T06:59:37.883657Z"
        },
        "colab": {
          "base_uri": "https://localhost:8080/"
        },
        "id": "qlONvX--igXn",
        "outputId": "21442db3-b85b-429e-df85-5a5fef11af3f"
      },
      "outputs": [
        {
          "output_type": "stream",
          "name": "stdout",
          "text": [
            "(3,)\n",
            "(3,)\n",
            "(3,)\n",
            "(3,)\n"
          ]
        }
      ],
      "source": [
        "a = 2\n",
        "x = nd.ones(3)\n",
        "y = nd.zeros(3)\n",
        "print(x.shape)\n",
        "print(y.shape)\n",
        "print((a * x).shape)\n",
        "print((a * x + y).shape)"
      ]
    },
    {
      "cell_type": "markdown",
      "metadata": {
        "id": "dxULqj-bigXn"
      },
      "source": [
        "## Sums and means\n",
        "\n",
        "In math we express sums using the $\\sum$ symbol.\n",
        "To express the sum of the elements in a vector $\\mathbf{u}$ of length $d$,\n",
        "we can write $\\sum_{i=1}^d u_i$. In code, we can just call ``nd.sum()``."
      ]
    },
    {
      "cell_type": "code",
      "execution_count": null,
      "metadata": {
        "ExecuteTime": {
          "end_time": "2019-01-22T06:59:37.911193Z",
          "start_time": "2019-01-22T06:59:37.899472Z"
        },
        "colab": {
          "base_uri": "https://localhost:8080/"
        },
        "id": "SEDYE61cigXn",
        "outputId": "eabd4309-9051-4a38-e8bf-1436fe6cfab6"
      },
      "outputs": [
        {
          "output_type": "stream",
          "name": "stdout",
          "text": [
            "\n",
            "[1. 1. 1.]\n",
            "<NDArray 3 @cpu(0)>\n",
            "\n",
            "[3.]\n",
            "<NDArray 1 @cpu(0)>\n"
          ]
        }
      ],
      "source": [
        "print(x)\n",
        "print(nd.sum(x))"
      ]
    },
    {
      "cell_type": "markdown",
      "metadata": {
        "id": "GIkCXkmPigXn"
      },
      "source": [
        "We can similarly express sums over the elements of tensors of arbitrary shape. For example, the sum of the elements of an $m \\times n$ matrix $A$ could be written $\\sum_{i=1}^{m} \\sum_{j=1}^{n} a_{ij}$."
      ]
    },
    {
      "cell_type": "code",
      "execution_count": null,
      "metadata": {
        "ExecuteTime": {
          "end_time": "2019-01-22T06:59:37.922313Z",
          "start_time": "2019-01-22T06:59:37.914364Z"
        },
        "colab": {
          "base_uri": "https://localhost:8080/"
        },
        "id": "qVS93xMTigXo",
        "outputId": "0a31178e-4500-4f54-d595-da81d32ccc2b"
      },
      "outputs": [
        {
          "output_type": "stream",
          "name": "stdout",
          "text": [
            "\n",
            "[[ 0.  1.  2.  3.  4.  5.  6.  7.  8.  9.]\n",
            " [10. 11. 12. 13. 14. 15. 16. 17. 18. 19.]]\n",
            "<NDArray 2x10 @cpu(0)>\n",
            "\n",
            "[10. 12. 14. 16. 18. 20. 22. 24. 26. 28.]\n",
            "<NDArray 10 @cpu(0)>\n"
          ]
        }
      ],
      "source": [
        "print(A)\n",
        "print(nd.sum(A,0))"
      ]
    },
    {
      "cell_type": "markdown",
      "metadata": {
        "id": "WTI_vgn2igXo"
      },
      "source": [
        "A related quantity is the *mean*. \n",
        "We calculate the mean by dividing the sum by the total number of elements. In code this is ``nd.mean()``.\n",
        "\n",
        "$$\\mathrm{mean}(\\mathbf{u}) = \\frac{1}{d} \\sum_{i=1}^{d} u_i \\text{ and }\n",
        "\\mathrm{mean}(A) = \\frac{1}{n \\cdot m} \\sum_{i=1}^{m} \\sum_{j=1}^{n} a_{ij}$$"
      ]
    },
    {
      "cell_type": "code",
      "execution_count": null,
      "metadata": {
        "ExecuteTime": {
          "end_time": "2019-01-22T06:59:37.933514Z",
          "start_time": "2019-01-22T06:59:37.925021Z"
        },
        "colab": {
          "base_uri": "https://localhost:8080/"
        },
        "id": "vMAPffnWigXo",
        "outputId": "920be897-cf4a-4337-8ef8-dff739b9952c"
      },
      "outputs": [
        {
          "output_type": "stream",
          "name": "stdout",
          "text": [
            "\n",
            "[9.5]\n",
            "<NDArray 1 @cpu(0)>\n",
            "\n",
            "[9.5]\n",
            "<NDArray 1 @cpu(0)>\n"
          ]
        }
      ],
      "source": [
        "print(nd.mean(A))\n",
        "print(nd.sum(A) / A.size)"
      ]
    },
    {
      "cell_type": "markdown",
      "metadata": {
        "id": "8NFGChXqigXo"
      },
      "source": [
        "## Dot products\n",
        "\n",
        "Given two vectors $\\mathbf{u}$ and $\\mathbf{v}$, the dot product $\\mathbf{u}^T \\mathbf{v}$ is a sum over the products of the corresponding elements: $\\mathbf{u}^T \\mathbf{v} = \\sum_{i=1}^{d} u_i \\cdot v_i$."
      ]
    },
    {
      "cell_type": "code",
      "execution_count": null,
      "metadata": {
        "ExecuteTime": {
          "end_time": "2019-01-22T06:59:37.947256Z",
          "start_time": "2019-01-22T06:59:37.936840Z"
        },
        "colab": {
          "base_uri": "https://localhost:8080/"
        },
        "id": "qGHEklsoigXo",
        "outputId": "3295d5b3-0fbe-4eab-85ce-8aaa37dbe687"
      },
      "outputs": [
        {
          "output_type": "stream",
          "name": "stdout",
          "text": [
            "\n",
            "[1. 2. 3. 4.]\n",
            "<NDArray 4 @cpu(0)> \n",
            "[1. 1. 1. 1.]\n",
            "<NDArray 4 @cpu(0)> \n",
            "[10.]\n",
            "<NDArray 1 @cpu(0)>\n"
          ]
        }
      ],
      "source": [
        "x = nd.arange(4) +1.0\n",
        "y = nd.ones(4)\n",
        "print(x, y, nd.dot(x, y))"
      ]
    },
    {
      "cell_type": "markdown",
      "metadata": {
        "id": "3B2Fvp3wigXp"
      },
      "source": [
        "Note that we can express the dot product of two vectors ``nd.dot(u, v)`` equivalently by performing an element-wise multiplication and then a sum:"
      ]
    },
    {
      "cell_type": "code",
      "execution_count": null,
      "metadata": {
        "ExecuteTime": {
          "end_time": "2019-01-22T06:59:37.958753Z",
          "start_time": "2019-01-22T06:59:37.950028Z"
        },
        "colab": {
          "base_uri": "https://localhost:8080/"
        },
        "id": "smWHbQ9gigXp",
        "outputId": "68bb7e9b-f2be-4717-87da-f016f4b9aaac"
      },
      "outputs": [
        {
          "output_type": "execute_result",
          "data": {
            "text/plain": [
              "\n",
              "[10.]\n",
              "<NDArray 1 @cpu(0)>"
            ]
          },
          "metadata": {},
          "execution_count": 19
        }
      ],
      "source": [
        "nd.sum(x * y)"
      ]
    },
    {
      "cell_type": "markdown",
      "metadata": {
        "id": "14qHqYbJigXp"
      },
      "source": [
        "## Matrix-vector products\n",
        "\n",
        "$$A=\\begin{pmatrix}\n",
        " a_{11} & a_{12} & \\cdots & a_{1m} \\\\\n",
        " a_{21} & a_{22} & \\cdots & a_{2m} \\\\\n",
        "\\vdots & \\vdots & \\ddots & \\vdots \\\\\n",
        " a_{n1} & a_{n2} & \\cdots & a_{nm} \\\\\n",
        "\\end{pmatrix},\\quad\\mathbf{x}=\\begin{pmatrix}\n",
        " x_{1}  \\\\\n",
        " x_{2} \\\\\n",
        "\\vdots\\\\\n",
        " x_{m}\\\\\n",
        "\\end{pmatrix} $$\n",
        "\n",
        "$$A\\mathbf{x}=\n",
        "\\begin{pmatrix}\n",
        "\\cdots & \\mathbf{a}^T_{1} &...  \\\\\n",
        "\\cdots & \\mathbf{a}^T_{2} & \\cdots \\\\\n",
        " & \\vdots &  \\\\\n",
        " \\cdots &\\mathbf{a}^T_n & \\cdots \\\\\n",
        "\\end{pmatrix}\n",
        "\\begin{pmatrix}\n",
        " x_{1}  \\\\\n",
        " x_{2} \\\\\n",
        "\\vdots\\\\\n",
        " x_{m}\\\\\n",
        "\\end{pmatrix}\n",
        "= \\begin{pmatrix}\n",
        " \\mathbf{a}^T_{1} \\mathbf{x}  \\\\\n",
        " \\mathbf{a}^T_{2} \\mathbf{x} \\\\\n",
        "\\vdots\\\\\n",
        " \\mathbf{a}^T_{n} \\mathbf{x}\\\\\n",
        "\\end{pmatrix}\n",
        "$$\n",
        "\n",
        "So you can think of multiplication by a matrix $A\\in \\mathbb{R}^{m \\times n}$ as a transformation that projects vectors from $\\mathbb{R}^{m}$ to $\\mathbb{R}^{n}$.\n"
      ]
    },
    {
      "cell_type": "markdown",
      "metadata": {
        "id": "SZJvRJxNigXp"
      },
      "source": [
        "We can also use matrix-vector products to describe the calculations of each layer in a neural network.\n",
        "Expressing matrix-vector products in code with ``ndarray``, we use the same ``nd.dot()`` function as for dot products. "
      ]
    },
    {
      "cell_type": "code",
      "execution_count": null,
      "metadata": {
        "ExecuteTime": {
          "end_time": "2019-01-22T06:59:37.972681Z",
          "start_time": "2019-01-22T06:59:37.961622Z"
        },
        "colab": {
          "base_uri": "https://localhost:8080/"
        },
        "id": "0PMIhi1CigXp",
        "outputId": "ef653005-3f60-4f2c-ad78-e86f7da781b5"
      },
      "outputs": [
        {
          "output_type": "stream",
          "name": "stdout",
          "text": [
            "\n",
            "[ 20.  60. 100. 140. 180.]\n",
            "<NDArray 5 @cpu(0)>\n",
            "\n",
            "[[ 0.  2.  6. 12.]\n",
            " [ 4. 10. 18. 28.]\n",
            " [ 8. 18. 30. 44.]\n",
            " [12. 26. 42. 60.]\n",
            " [16. 34. 54. 76.]]\n",
            "<NDArray 5x4 @cpu(0)>\n"
          ]
        }
      ],
      "source": [
        "A = A.reshape((5,4))\n",
        "print(nd.dot(A, x))\n",
        "print(A * x)"
      ]
    },
    {
      "cell_type": "markdown",
      "metadata": {
        "id": "k64IuxxDigXq"
      },
      "source": [
        "## Matrix-matrix multiplication\n",
        "\n",
        "If you've gotten the hang of dot products and matrix-vector multiplication, then matrix-matrix multiplications should be pretty straightforward.\n",
        "\n",
        "Say we have two matrices, $A \\in \\mathbb{R}^{n \\times k}$ and $B \\in \\mathbb{R}^{k \\times m}$:\n",
        "\n",
        "$$A=\\begin{pmatrix}\n",
        " a_{11} & a_{12} & \\cdots & a_{1k} \\\\\n",
        " a_{21} & a_{22} & \\cdots & a_{2k} \\\\\n",
        "\\vdots & \\vdots & \\ddots & \\vdots \\\\\n",
        " a_{n1} & a_{n2} & \\cdots & a_{nk} \\\\\n",
        "\\end{pmatrix},\\quad\n",
        "B=\\begin{pmatrix}\n",
        " b_{11} & b_{12} & \\cdots & b_{1m} \\\\\n",
        " b_{21} & b_{22} & \\cdots & b_{2m} \\\\\n",
        "\\vdots & \\vdots & \\ddots & \\vdots \\\\\n",
        " b_{k1} & b_{k2} & \\cdots & b_{km} \\\\\n",
        "\\end{pmatrix}$$"
      ]
    },
    {
      "cell_type": "markdown",
      "metadata": {
        "id": "VZhT8pW-igXq"
      },
      "source": [
        "$$AB = \\begin{pmatrix}\n",
        "\\cdots & \\mathbf{a}^T_{1} &...  \\\\\n",
        "\\cdots & \\mathbf{a}^T_{2} & \\cdots \\\\\n",
        " & \\vdots &  \\\\\n",
        " \\cdots &\\mathbf{a}^T_n & \\cdots \\\\\n",
        "\\end{pmatrix}\n",
        "\\begin{pmatrix}\n",
        "\\vdots & \\vdots &  & \\vdots \\\\\n",
        " \\mathbf{b}_{1} & \\mathbf{b}_{2} & \\cdots & \\mathbf{b}_{m} \\\\\n",
        " \\vdots & \\vdots &  &\\vdots\\\\\n",
        "\\end{pmatrix}\n",
        "= \\begin{pmatrix}\n",
        "\\mathbf{a}^T_{1} \\mathbf{b}_1 & \\mathbf{a}^T_{1}\\mathbf{b}_2& \\cdots & \\mathbf{a}^T_{1} \\mathbf{b}_m \\\\\n",
        " \\mathbf{a}^T_{2}\\mathbf{b}_1 & \\mathbf{a}^T_{2} \\mathbf{b}_2 & \\cdots & \\mathbf{a}^T_{2} \\mathbf{b}_m \\\\\n",
        " \\vdots & \\vdots & \\ddots &\\vdots\\\\\n",
        "\\mathbf{a}^T_{n} \\mathbf{b}_1 & \\mathbf{a}^T_{n}\\mathbf{b}_2& \\cdots& \\mathbf{a}^T_{n} \\mathbf{b}_m\n",
        "\\end{pmatrix}\n",
        "$$\n",
        "\n",
        "You can think of the matrix-matrix multiplication $AB$ as simply performing $m$ matrix-vector products and stitching the results together."
      ]
    },
    {
      "cell_type": "code",
      "execution_count": null,
      "metadata": {
        "ExecuteTime": {
          "end_time": "2019-01-22T06:59:38.003462Z",
          "start_time": "2019-01-22T06:59:37.989098Z"
        },
        "colab": {
          "base_uri": "https://localhost:8080/"
        },
        "id": "jiTnaMQuigXq",
        "outputId": "c8534b82-c651-4d4b-ecdc-fa203d94ecb0"
      },
      "outputs": [
        {
          "output_type": "execute_result",
          "data": {
            "text/plain": [
              "\n",
              "[[ 6.  6.  6.]\n",
              " [22. 22. 22.]\n",
              " [38. 38. 38.]\n",
              " [54. 54. 54.]\n",
              " [70. 70. 70.]]\n",
              "<NDArray 5x3 @cpu(0)>"
            ]
          },
          "metadata": {},
          "execution_count": 22
        }
      ],
      "source": [
        "B = nd.ones(shape=(4, 3))\n",
        "nd.dot(A, B)"
      ]
    },
    {
      "cell_type": "markdown",
      "metadata": {
        "id": "2wFIvhlnigXq"
      },
      "source": [
        "## Norms\n",
        "\n",
        "All norms must satisfy a handful of properties:\n",
        "\n",
        "1. $\\|\\alpha A\\| = |\\alpha| \\|A\\|$\n",
        "1. $\\|A + B\\| \\leq \\|A\\| + \\|B\\|$\n",
        "1. $\\|A\\| \\geq 0$\n",
        "1. If $\\forall {i,j}, a_{ij} = 0$, then $\\|A\\|=0$\n",
        "\n",
        "To calculate the $\\ell_2$ norm, we can just call ``nd.norm()``."
      ]
    },
    {
      "cell_type": "code",
      "execution_count": null,
      "metadata": {
        "ExecuteTime": {
          "end_time": "2019-01-22T06:59:38.023692Z",
          "start_time": "2019-01-22T06:59:38.010330Z"
        },
        "colab": {
          "base_uri": "https://localhost:8080/"
        },
        "id": "zI07W1DCigXq",
        "outputId": "74962f18-9d5a-4008-ab30-c801b791afd5"
      },
      "outputs": [
        {
          "output_type": "execute_result",
          "data": {
            "text/plain": [
              "\n",
              "[5.477226]\n",
              "<NDArray 1 @cpu(0)>"
            ]
          },
          "metadata": {},
          "execution_count": 23
        }
      ],
      "source": [
        "nd.norm(x)"
      ]
    },
    {
      "cell_type": "markdown",
      "metadata": {
        "id": "0PbdgKy5igXq"
      },
      "source": [
        "To calculate the $\\ell_1$-norm we can simply perform the absolute value and then sum over the elements."
      ]
    },
    {
      "cell_type": "code",
      "execution_count": null,
      "metadata": {
        "ExecuteTime": {
          "end_time": "2019-01-22T06:59:38.037641Z",
          "start_time": "2019-01-22T06:59:38.026628Z"
        },
        "colab": {
          "base_uri": "https://localhost:8080/"
        },
        "id": "pKI-kED6igXr",
        "outputId": "876e8d89-725e-4d37-90e2-0dd590d51980"
      },
      "outputs": [
        {
          "output_type": "execute_result",
          "data": {
            "text/plain": [
              "\n",
              "[10.]\n",
              "<NDArray 1 @cpu(0)>"
            ]
          },
          "metadata": {},
          "execution_count": 24
        }
      ],
      "source": [
        "nd.sum(nd.abs(x))"
      ]
    }
  ],
  "metadata": {
    "celltoolbar": "Slideshow",
    "kernelspec": {
      "display_name": "Python 3",
      "language": "python",
      "name": "python3"
    },
    "language_info": {
      "codemirror_mode": {
        "name": "ipython",
        "version": 3
      },
      "file_extension": ".py",
      "mimetype": "text/x-python",
      "name": "python",
      "nbconvert_exporter": "python",
      "pygments_lexer": "ipython3",
      "version": "3.7.0"
    },
    "colab": {
      "name": "linear-algebra (DL).ipynb",
      "provenance": [],
      "collapsed_sections": []
    }
  },
  "nbformat": 4,
  "nbformat_minor": 0
}
